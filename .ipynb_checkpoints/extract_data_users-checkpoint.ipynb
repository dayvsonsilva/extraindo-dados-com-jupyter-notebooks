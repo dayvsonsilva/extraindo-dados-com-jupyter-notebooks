{
 "cells": [
  {
   "cell_type": "markdown",
   "metadata": {
    "colab_type": "text",
    "id": "view-in-github"
   },
   "source": [
    "<a href=\"https://colab.research.google.com/github/userddssilva/extraindo-analisando-dados/blob/master/extract_data_users.ipynb\" target=\"_parent\"><img src=\"https://colab.research.google.com/assets/colab-badge.svg\" alt=\"Open In Colab\"/></a>"
   ]
  },
  {
   "cell_type": "code",
   "execution_count": 0,
   "metadata": {
    "cellView": "form",
    "colab": {},
    "colab_type": "code",
    "id": "LWoNRwD6rC6Y"
   },
   "outputs": [],
   "source": [
    "#@title Download Dataset to Google Colab { form-width: \"800px\" }\n",
    "\n",
    "# e.g GOOGLE_DRIVE_FILE_URL: https://drive.google.com/open?id=1CZyDkHHjS8SUVBF7fBwoTAF6xSpLmD4P7\n",
    "LinkFile = \"https://drive.google.com/open?id=1ZKGI0xYnBWYpSf13fbmVTnIxBa6cTQyH\" #@param {type:\"string\"}\n",
    "\n",
    "# e.g GOOGLE_DRIVE_FILENAME_WITH_EXTENSION: Local History.csv\n",
    "Filename = \"codebench.zip\" #@param {type:\"string\"}\n",
    "\n",
    "Filename = Filename.replace(' ', '\\ ')\n",
    "\n",
    "# Install the PyDrive wrapper & import libraries.\n",
    "# This only needs to be done once per notebook.\n",
    "!pip install -U -q PyDrive\n",
    "from pydrive.auth import GoogleAuth\n",
    "from pydrive.drive import GoogleDrive\n",
    "from google.colab import auth\n",
    "from oauth2client.client import GoogleCredentials\n",
    "\n",
    "# Authenticate and create the PyDrive client.\n",
    "# This only needs to be done once per notebook.\n",
    "auth.authenticate_user()\n",
    "gauth = GoogleAuth()\n",
    "gauth.credentials = GoogleCredentials.get_application_default()\n",
    "drive = GoogleDrive(gauth)\n",
    "\n",
    "# Download a file based on its file ID.\n",
    "#\n",
    "# A file ID looks like: laggVyWshwcyP6kEI-y_W3P8D26sz\n",
    "file_id = LinkFile.split('=')[-1]\n",
    "downloaded = drive.CreateFile({'id': file_id})\n",
    "downloaded.GetContentFile(Filename) "
   ]
  },
  {
   "cell_type": "code",
   "execution_count": 0,
   "metadata": {
    "colab": {},
    "colab_type": "code",
    "id": "pWVT2_OdsimR"
   },
   "outputs": [],
   "source": [
    "!unzip -q codebench.zip"
   ]
  },
  {
   "cell_type": "code",
   "execution_count": 0,
   "metadata": {
    "colab": {},
    "colab_type": "code",
    "id": "deVMiWiJv42P"
   },
   "outputs": [],
   "source": [
    "!rm codebench.zip"
   ]
  },
  {
   "cell_type": "markdown",
   "metadata": {
    "colab_type": "text",
    "id": "sgUzOtaxqYvf"
   },
   "source": [
    "## Estrutura para coletar os dados dos usurários (alunos)"
   ]
  },
  {
   "cell_type": "markdown",
   "metadata": {
    "colab_type": "text",
    "id": "ywCNv9GmqYvi"
   },
   "source": [
    "```\n",
    "    semester_id\n",
    "             |--- class_id\n",
    "             |        |--- user_id\n",
    "             |        |      |--- {feature1 : feature_value}\n",
    "             |        |      |--- {feature2 : feature_value}\n",
    "             |        |      |--- .......\n",
    "             |        |      |--- {featureN : feature_value}\n",
    "```"
   ]
  },
  {
   "cell_type": "markdown",
   "metadata": {
    "colab_type": "text",
    "id": "4mWj4RBbqYvj"
   },
   "source": [
    "## Criando a estrutura para armazenar os dados dos alunos"
   ]
  },
  {
   "cell_type": "markdown",
   "metadata": {
    "colab_type": "text",
    "id": "pSwJ4kQbqYvl"
   },
   "source": [
    "### Imports"
   ]
  },
  {
   "cell_type": "code",
   "execution_count": 0,
   "metadata": {
    "colab": {},
    "colab_type": "code",
    "id": "YXINg-kQqYvm"
   },
   "outputs": [],
   "source": [
    "import os\n",
    "import re\n",
    "\n",
    "from pprint import pprint"
   ]
  },
  {
   "cell_type": "markdown",
   "metadata": {
    "colab_type": "text",
    "id": "hm6AaXLPqYvr"
   },
   "source": [
    "### Extraindo os semestres"
   ]
  },
  {
   "cell_type": "code",
   "execution_count": 0,
   "metadata": {
    "colab": {},
    "colab_type": "code",
    "id": "KG7F4hUtqYvs"
   },
   "outputs": [],
   "source": [
    "#ROOT = '../dataset/workbench/'\n",
    "ROOT = 'codebench/'\n",
    "database = {}\n",
    "for semester_id in os.listdir(ROOT):\n",
    "    database[semester_id] = {}\n",
    "\n",
    "pprint(database)"
   ]
  },
  {
   "cell_type": "markdown",
   "metadata": {
    "colab_type": "text",
    "id": "SmwvP7wcqYvw"
   },
   "source": [
    "### Extraindo as turmas"
   ]
  },
  {
   "cell_type": "code",
   "execution_count": 0,
   "metadata": {
    "colab": {},
    "colab_type": "code",
    "id": "4mlfJm5aqYvy"
   },
   "outputs": [],
   "source": [
    "#ROOT = '../dataset/workbench/{semester}'\n",
    "ROOT = 'codebench/{semester}'\n",
    "for semester_id in database.keys():\n",
    "    path = ROOT.replace('{semester}', semester_id)\n",
    "    classes = os.listdir(path)\n",
    "    for class_id in classes:\n",
    "        database[semester_id][class_id] = {}\n",
    "pprint(database)"
   ]
  },
  {
   "cell_type": "markdown",
   "metadata": {
    "colab_type": "text",
    "id": "0lyTHv9-qYv2"
   },
   "source": [
    "### Extraindo os usuarios"
   ]
  },
  {
   "cell_type": "code",
   "execution_count": 0,
   "metadata": {
    "colab": {},
    "colab_type": "code",
    "id": "I1KARZaoqYv3"
   },
   "outputs": [],
   "source": [
    "#ROOT = '../dataset/workbench/{semester}/{class}/users/'\n",
    "ROOT = 'codebench/{semester}/{class}/users/'\n",
    "for semester_id in database.keys():\n",
    "    for class_id in database[semester_id].keys():\n",
    "        path = ROOT.replace('{semester}', semester_id)\n",
    "        path = path.replace('{class}', class_id)\n",
    "        for user_id in os.listdir(path):\n",
    "            database[semester_id][class_id][user_id] = {}\n",
    "pprint(database)"
   ]
  },
  {
   "cell_type": "markdown",
   "metadata": {
    "colab_type": "text",
    "id": "N89t4dLjqYv7"
   },
   "source": [
    "### Acrescentando na estrutura as caracteristicas dos alunos"
   ]
  },
  {
   "cell_type": "code",
   "execution_count": 0,
   "metadata": {
    "colab": {},
    "colab_type": "code",
    "id": "K_1OnignqYv8"
   },
   "outputs": [],
   "source": [
    "features_aluno = [\n",
    "  'user_id',\n",
    "  'semester_id',\n",
    "  'class_number',\n",
    "  'course_id',\n",
    "  'course_name',\n",
    "  'inst_id_curr',\n",
    "  'inst_name_curr',\n",
    "  'high_school_name',\n",
    "  'school_type',\n",
    "  'shift',\n",
    "  'graduation_year',\n",
    "  'has_pc',\n",
    "  'share_pc',\n",
    "  'has_internet',\n",
    "  'speed_internet',\n",
    "  'prev_exp_lang',\n",
    "  'language',\n",
    "  'worked',\n",
    "  'company_name',\n",
    "  'year_started_work',\n",
    "  'year_stoped_work',\n",
    "  'other_degree',\n",
    "  'inst_name_prev',\n",
    "  'name_other_degree',\n",
    "  'year_started_prev_degree',\n",
    "  'year_stoped_prev_degree',\n",
    "  'sex',\n",
    "  'year_birth',\n",
    "  'civil_status',\n",
    "  'have_kids',\n",
    "]\n",
    "\n",
    "for semester_id in database.keys():\n",
    "    for class_id in database[semester_id].keys():\n",
    "        for user_id in database[semester_id][class_id].keys():\n",
    "            for feature in features_aluno:\n",
    "                database[semester_id][class_id][user_id][feature] = ''\n",
    "                database[semester_id][class_id][user_id]['semester_id'] = semester_id\n",
    "                database[semester_id][class_id][user_id]['class_number'] = class_id\n",
    "                database[semester_id][class_id][user_id]['user_id'] = user_id\n",
    "pprint(database)"
   ]
  },
  {
   "cell_type": "markdown",
   "metadata": {
    "colab_type": "text",
    "id": "rgp8QdWPqYwA"
   },
   "source": [
    "### Preenchendo a estrutura com os dados dos alunos"
   ]
  },
  {
   "cell_type": "code",
   "execution_count": 0,
   "metadata": {
    "colab": {},
    "colab_type": "code",
    "id": "XZcBZe1zqYwB",
    "scrolled": false
   },
   "outputs": [],
   "source": [
    "\n",
    "#ROOT = '../dataset/workbench/{semester_id}/{class_id}/users/{user_id}'\n",
    "ROOT = 'codebench/{semester_id}/{class_id}/users/{user_id}'\n",
    "\n",
    "'''\n",
    "features_text = [\n",
    "    'course id',#0\n",
    "    'course name',#1\n",
    "    'institution id',#2\n",
    "    'institution name',#3\n",
    "    'high school name',#4\n",
    "    'school type',#5\n",
    "    'shift',#6\n",
    "    'graduation year',#7\n",
    "    'has a PC',#8\n",
    "    'share this PC', #9\n",
    "    'this PC has access to',#10\n",
    "    'previous experience',#11\n",
    "    'worked or interned',#12\n",
    "    'company name',#13\n",
    "    'year started working',#14\n",
    "    'year stopped working',#15\n",
    "    'started other degree',#16\n",
    "    'degree course',#17\n",
    "    'year started this',#18\n",
    "    'year stopped this',#19\n",
    "    'sex',#20\n",
    "    'yaer of birth',#21\n",
    "    'civil status',#22\n",
    "    'have kids'#23\n",
    "]\n",
    "'''\n",
    "\n",
    "for semester_id in database.keys():\n",
    "    for class_id in database[semester_id].keys():\n",
    "        for user_id in database[semester_id][class_id].keys():\n",
    "            path = ROOT.replace('{semester_id}', semester_id)\n",
    "            path = path.replace('{class_id}', class_id)\n",
    "            path = path.replace('{user_id}', user_id)\n",
    "         \n",
    "            path_file = os.path.join(path, 'user.data')\n",
    "            is_curr_inst = False\n",
    "            \n",
    "            with open(path_file, 'r') as fl:\n",
    "                for linha in fl:\n",
    "                    if 'course id' in linha:\n",
    "                        linha = linha.split(':')[1]\n",
    "                        course_id = linha.split('\\n')[0][1:]\n",
    "                        if len(course_id) > 0 and 'n/a' not in course_id:\n",
    "                            database[semester_id][class_id][user_id]['course_id'] = course_id\n",
    "                        \n",
    "                    elif 'course name' in linha:\n",
    "                        linha = linha.split(':')[1]\n",
    "                        course_name = linha.split('\\n')[0][1:]\n",
    "                        if len(course_name) > 0 and 'n/a' not in course_name:\n",
    "                            database[semester_id][class_id][user_id]['course_name'] = course_name\n",
    "                              \n",
    "                    elif 'institution id' in linha:\n",
    "                        linha = linha.split(':')[1]\n",
    "                        inst_id_curr = linha.split('\\n')[0][1:]\n",
    "                        if len(inst_id_curr) > 0 and 'n/a' not in inst_id_curr:\n",
    "                            database[semester_id][class_id][user_id]['inst_id_curr'] = inst_id_curr\n",
    "                    \n",
    "                    elif 'institution name' in linha:\n",
    "                        linha = linha.split(':')[1]\n",
    "                        inst_name_curr = linha.split('\\n')[0][1:]\n",
    "                        if is_curr_inst == False:\n",
    "                            is_curr_inst = True\n",
    "                            if len(inst_name_curr) > 0 and 'n/a' not in inst_name_curr:\n",
    "                                database[semester_id][class_id][user_id]['inst_name_curr'] = inst_name_curr\n",
    "                        else:\n",
    "                            if len(inst_name_curr) > 0 and 'n/a' not in inst_name_curr:\n",
    "                                database[semester_id][class_id][user_id]['inst_name_prev'] = inst_name_curr                            \n",
    "                    \n",
    "                    elif 'high school name' in linha:\n",
    "                        linha = linha.split(':')[1]\n",
    "                        high_school_name = linha.split('\\n')[0][1:]\n",
    "                        if len(high_school_name) > 0 and 'n/a' not in high_school_name:\n",
    "                            find_p = re.search(r\"\\w'\\w\", high_school_name)\n",
    "                            if find_p:\n",
    "                                # alterando o nome sant'ana para santa Ana\n",
    "                                high_school_name = high_school_name.replace(find_p.group(0), 'ta A')\n",
    "                            f = re.search(r\"\\w'\", high_school_name)\n",
    "                            if f:\n",
    "                                # alterando o nome lalaland' para lalaland\n",
    "                                high_school_name = high_school_name.replace(f.group(0), 'd')\n",
    "                            database[semester_id][class_id][user_id]['high_school_name'] = high_school_name\n",
    "                            \n",
    "                    elif 'school type' in linha:\n",
    "                        linha = linha.split(':')[1]\n",
    "                        school_type = linha.split('\\n')[0][1:]\n",
    "                        if len(school_type) > 0 and 'n/a' not in school_type:\n",
    "                            database[semester_id][class_id][user_id]['school_type'] = school_type\n",
    "                        \n",
    "                    elif 'shift' in linha:\n",
    "                        linha = linha.split(':')[1]\n",
    "                        shift = linha.split('\\n')[0][1:]\n",
    "                        if len(shift) > 0 and 'n/a' not in shift:\n",
    "                            database[semester_id][class_id][user_id]['shift'] = shift\n",
    "                        \n",
    "                    elif 'graduation year' in linha:\n",
    "                        linha = linha.split(':')[1]\n",
    "                        graduation_year = linha.split('\\n')[0][1:]\n",
    "                        if len(graduation_year) > 0 and 'n/a' not in graduation_year:\n",
    "                            database[semester_id][class_id][user_id]['graduation_year'] = graduation_year\n",
    "                        \n",
    "                    elif 'has a PC' in linha:\n",
    "                        linha = linha.split(':')[1]\n",
    "                        has_pc = linha.split('\\n')[0][1:]\n",
    "                        if len(has_pc) > 0 and 'n/a' not in has_pc:\n",
    "                            database[semester_id][class_id][user_id]['has_pc'] = has_pc\n",
    "                    \n",
    "                    elif 'share this PC' in linha:\n",
    "                        linha = linha.split(':')[1]\n",
    "                        share_pc = linha.split('\\n')[0][1:]\n",
    "                        if len(share_pc) > 0 and 'n/a' not in share_pc:\n",
    "                            database[semester_id][class_id][user_id]['share_pc'] = share_pc\n",
    "                    \n",
    "                    elif 'this PC has access to' in linha:\n",
    "                        linha = linha.split(':')[1]\n",
    "                        has_internet = linha.split('\\n')[0][1:]\n",
    "                        if len(has_internet) > 0 and 'n/a' not in has_internet:\n",
    "                            if 'no' in has_internet:\n",
    "                                database[semester_id][class_id][user_id]['has_internet'] = has_internet\n",
    "                            else:\n",
    "                                has = has_internet.split(' ')[0]\n",
    "                                database[semester_id][class_id][user_id]['has_internet'] = has\n",
    "                                speed = has_internet.split(' ')[1][1:]\n",
    "                                database[semester_id][class_id][user_id]['speed_internet'] = speed\n",
    "                    \n",
    "                    elif 'previous experience' in linha:\n",
    "                        linha = linha.split(':')[1]\n",
    "                        prev_exp_lang = linha.split('\\n')[0][1:]\n",
    "                        if len(prev_exp_lang) > 0 and 'n/a' not in prev_exp_lang:\n",
    "                            if 'no' in prev_exp_lang:\n",
    "                                database[semester_id][class_id][user_id]['prev_exp_lang'] = prev_exp_lang\n",
    "                            else:\n",
    "                                prev = prev_exp_lang.split('(')[0][:-1]\n",
    "                                database[semester_id][class_id][user_id]['prev_exp_lang'] = prev\n",
    "                                lang = prev_exp_lang.split('(')[1][:-1]\n",
    "                                database[semester_id][class_id][user_id]['language'] = lang\n",
    "                    \n",
    "                    elif 'worked or interned' in linha:\n",
    "                        linha = linha.split(':')[1]\n",
    "                        worked = internet = linha.split('\\n')[0][1:]\n",
    "                        if len(worked) > 0 and 'n/a' not in worked:\n",
    "                            database[semester_id][class_id][user_id]['worked'] = worked\n",
    "                    \n",
    "                    elif 'company name' in linha:\n",
    "                        linha = linha.split(':')[1]\n",
    "                        company_name = linha.split('\\n')[0][1:]\n",
    "                        if len(company_name) > 0 and 'n/a' not in company_name:\n",
    "                            database[semester_id][class_id][user_id]['company_name'] = company_name\n",
    "                            \n",
    "                    elif 'year started working' in linha:\n",
    "                        linha = linha.split(':')[1]\n",
    "                        year_started_work = linha.split('\\n')[0][1:]\n",
    "                        if len(year_started_work) > 0 and 'n/a' not in year_started_work:\n",
    "                            database[semester_id][class_id][user_id]['year_started_work'] = year_started_work\n",
    "                    \n",
    "                    elif 'year stopped working' in linha:\n",
    "                        linha = linha.split(':')[1]\n",
    "                        year_stoped_work = linha.split('\\n')[0][1:]\n",
    "                        if len(year_stoped_work) > 0 and 'n/a' not in year_stoped_work:\n",
    "                            database[semester_id][class_id][user_id]['year_stoped_work'] = year_stoped_work\n",
    "                    \n",
    "                    elif 'started other degree' in linha:\n",
    "                        linha = linha.split(':')[1]\n",
    "                        other_degree = linha.split('\\n')[0][1:]\n",
    "                        if len(other_degree) > 0 and 'n/a' not in other_degree:\n",
    "                            database[semester_id][class_id][user_id]['other_degree'] = other_degree\n",
    "                    \n",
    "                    elif 'degree course' in linha:\n",
    "                        linha = linha.split(':')[1]\n",
    "                        name_other_degree = linha.split('\\n')[0][1:]\n",
    "                        if len(name_other_degree) > 0 and 'n/a' not in name_other_degree:\n",
    "                            database[semester_id][class_id][user_id]['name_other_degree'] = name_other_degree\n",
    "                    \n",
    "                    elif 'year started this' in linha:\n",
    "                        linha = linha.split(':')[1]\n",
    "                        year_started_prev_degree = linha.split('\\n')[0][1:]\n",
    "                        if len(year_started_prev_degree) > 0 and 'n/a' not in year_started_prev_degree:\n",
    "                            database[semester_id][class_id][user_id]['year_started_prev_degree'] = year_started_prev_degree\n",
    "                    \n",
    "                    elif 'year stopped this' in linha:\n",
    "                        linha = linha.split(':')[1]\n",
    "                        year_stoped_prev_degree = linha.split('\\n')[0][1:]\n",
    "                        if len(year_stoped_prev_degree) > 0 and 'n/a' not in year_stoped_prev_degree:\n",
    "                            database[semester_id][class_id][user_id]['year_stoped_prev_degree'] = year_stoped_prev_degree\n",
    "                    \n",
    "                    elif 'sex' in linha:\n",
    "                        linha = linha.split(':')[1]\n",
    "                        sex = linha.split('\\n')[0][1:]\n",
    "                        if len(sex) > 0 and 'n/a' not in sex:\n",
    "                            database[semester_id][class_id][user_id]['sex'] = sex\n",
    "                            \n",
    "                    elif 'year of birth' in linha:\n",
    "                        linha = linha.split(':')[1]\n",
    "                        year_birth = linha.split('\\n')[0][1:]\n",
    "                        if len(year_birth) > 0 and 'n/a' not in year_birth:\n",
    "                            database[semester_id][class_id][user_id]['year_birth'] = year_birth\n",
    "                    \n",
    "                    elif 'civil status' in linha:\n",
    "                        linha = linha.split(':')[1]\n",
    "                        civil_status = linha.split('\\n')[0][1:]\n",
    "                        if len(civil_status) > 0 and 'n/a' not in civil_status:\n",
    "                            database[semester_id][class_id][user_id]['civil_status'] = civil_status\n",
    "                    \n",
    "                    elif 'have kids' in linha:\n",
    "                        linha = linha.split(':')[1]\n",
    "                        have_kids = linha.split('\\n')[0][1:]\n",
    "                        if len(have_kids) > 0 and'n/a' not in have_kids:\n",
    "                            database[semester_id][class_id][user_id]['have_kids'] = have_kids\n",
    "\n",
    "\n",
    "pprint(database)"
   ]
  },
  {
   "cell_type": "markdown",
   "metadata": {
    "colab_type": "text",
    "id": "ETEGzqvXAHIl"
   },
   "source": [
    "## Extraindo as notas finais de cada aluno"
   ]
  },
  {
   "cell_type": "code",
   "execution_count": 0,
   "metadata": {
    "colab": {},
    "colab_type": "code",
    "id": "cPcuv7VIAGYp"
   },
   "outputs": [],
   "source": [
    "import os\n",
    "\n",
    "path0 = 'codebench/{semester_id}/{class_id}/users/{user_id}/grades/final_grade.data'\n",
    "max_size = -1\n",
    "\n",
    "def get_final_grade(path):\n",
    "    if os.path.exists(path):\n",
    "        with open(path, 'r') as fl:\n",
    "            for line in fl.readlines():\n",
    "                return line\n",
    "    else:\n",
    "        print(path)\n",
    "        path = path.replace('final_grade.data', '')\n",
    "        print(len(os.listdir(path)))\n",
    "        #if len(os.listdir(path)) > max_size:\n",
    "        #    max_size = len(os.listdir(path))\n",
    "        return -1\n",
    "\n",
    "for semester_id in database.keys():\n",
    "    path1 = path0.replace('{semester_id}', semester_id)\n",
    "    for class_id in database[semester_id].keys():\n",
    "        path2 = path1.replace('{class_id}', class_id)\n",
    "        for user_id in database[semester_id][class_id].keys():\n",
    "            path3 = path2.replace('{user_id}', user_id)\n",
    "            grade = get_final_grade(path3)\n",
    "            database[semester_id][class_id][user_id]['final_grade'] = grade\n",
    "print(max_size)"
   ]
  },
  {
   "cell_type": "markdown",
   "metadata": {
    "colab_type": "text",
    "id": "pvTONHPeqYwF"
   },
   "source": [
    "## Estruturando os dados em formato tabular"
   ]
  },
  {
   "cell_type": "markdown",
   "metadata": {
    "colab_type": "text",
    "id": "32jIUhJMqYwG"
   },
   "source": [
    "### Colocando os dados em um csv"
   ]
  },
  {
   "cell_type": "code",
   "execution_count": 0,
   "metadata": {
    "colab": {},
    "colab_type": "code",
    "id": "l9TTydD1U59S"
   },
   "outputs": [],
   "source": [
    "import csv\n",
    "inserted = False\n",
    "\n",
    "def insert_on_csv(row):\n",
    "    with open('user.csv', 'a') as employee_file:\n",
    "        employee_writer = csv.writer(employee_file, delimiter=';')\n",
    "        employee_writer.writerow(row)\n",
    "\n",
    "def get_features():\n",
    "    #features = ['semester_id', 'class_id', 'user_id']\n",
    "    for semester_id in database.keys():\n",
    "        for class_id in database[semester_id].keys():\n",
    "            for user_id in database[semester_id][class_id].keys():\n",
    "                features = list(database[semester_id][class_id][user_id].keys())\n",
    "                insert_on_csv(features)\n",
    "                return\n",
    "\n",
    "def get_values():\n",
    "    for semester_id in database.keys():\n",
    "        for class_id in database[semester_id].keys():\n",
    "            for user_id in database[semester_id][class_id].keys():\n",
    "                values = []\n",
    "                for feature, value in database[semester_id][class_id][user_id].items():\n",
    "                    values.append(value)\n",
    "                insert_on_csv(values)\n",
    "\n",
    "if __name__ == '__main__':\n",
    "    get_features()\n",
    "    get_values()"
   ]
  },
  {
   "cell_type": "code",
   "execution_count": 0,
   "metadata": {
    "colab": {},
    "colab_type": "code",
    "id": "5kAw_iQBbEIC"
   },
   "outputs": [],
   "source": [
    "with open('user.csv', 'r') as fl:\n",
    "    for line in fl.readlines():\n",
    "        print(line)\n",
    "        break"
   ]
  },
  {
   "cell_type": "code",
   "execution_count": 0,
   "metadata": {
    "colab": {},
    "colab_type": "code",
    "id": "a0D5Jc3G3Ip3"
   },
   "outputs": [],
   "source": [
    "import pandas as pd\n",
    "df = pd.read_csv('user.csv', delimiter=';')\n",
    "df.head()"
   ]
  },
  {
   "cell_type": "code",
   "execution_count": 0,
   "metadata": {
    "colab": {},
    "colab_type": "code",
    "id": "RHhR1tsc9UNP"
   },
   "outputs": [],
   "source": [
    "df.shape"
   ]
  },
  {
   "cell_type": "markdown",
   "metadata": {
    "colab_type": "text",
    "id": "xSkr9Q8EqYwL"
   },
   "source": [
    "### Inserindo dados no banco"
   ]
  },
  {
   "cell_type": "code",
   "execution_count": 0,
   "metadata": {
    "colab": {},
    "colab_type": "code",
    "id": "JbDnPqzjqYwM"
   },
   "outputs": [],
   "source": [
    "```\n",
    "def conn():\n",
    "    connection = pymysql.connect(host='localhost',\n",
    "                             user='root',\n",
    "                             password='open',\n",
    "                             db='dataset-workbench',\n",
    "                             charset='utf8mb4',\n",
    "                             cursorclass=pymysql.cursors.DictCursor)\n",
    "    return connection\n",
    "\n",
    "#connetion.close()\n",
    "connection = conn()\n",
    "\n",
    "cursor = connection.cursor()\n",
    "\n",
    "varchar_features = [\n",
    "  'user_id',\n",
    "  'semester_id',\n",
    "  'course_name',\n",
    "  'inst_name_curr',\n",
    "  'high_school_name',\n",
    "  'school_type',\n",
    "  'shift',\n",
    "  'has_pc',\n",
    "  'share_pc',\n",
    "  'has_internet',\n",
    "  'speed_internet',\n",
    "  'prev_exp_lang',\n",
    "  'language',\n",
    "  'worked',\n",
    "  'company_name',\n",
    "  'year_started_work',\n",
    "  'year_stoped_work',\n",
    "  'other_degree',\n",
    "  'inst_name_prev',\n",
    "  'name_other_degree',\n",
    "  'sex',\n",
    "  'civil_status',\n",
    "  'have_kids',\n",
    "]\n",
    "\n",
    "def is_varchar(feature):\n",
    "    if feature in varchar_features and value != 'NULL':\n",
    "        return True\n",
    "    else: return False\n",
    "\n",
    "for semester_id in database.keys():\n",
    "    for class_id in database[semester_id].keys():\n",
    "        for user_id in database[semester_id][class_id].keys():\n",
    "            \n",
    "            values = ''\n",
    "            features = ''\n",
    "            insert_user_sql = ''\n",
    "            \n",
    "            for feature in database[semester_id][class_id][user_id].keys():\n",
    "                value = database[semester_id][class_id][user_id][feature]\n",
    "                features += f'{feature}, '\n",
    "                if 'user_id' in feature:\n",
    "                    value = f'{semester_id}#{class_id}#{user_id}'\n",
    "                if is_varchar(feature):\n",
    "                    values += f\"'{value}', \"\n",
    "                else:\n",
    "                    values += f\"{value}, \"\n",
    "\n",
    "            insert_user_sql = f'INSERT INTO user({features[:-2]}) VALUES ({values[:-2]});'\n",
    "            print(insert_user_sql)\n",
    "            cursor.execute(insert_user_sql)\n",
    "connection.commit()                \n",
    "connection.close()\n",
    "```"
   ]
  },
  {
   "cell_type": "code",
   "execution_count": 0,
   "metadata": {
    "colab": {},
    "colab_type": "code",
    "id": "2BXw77OSbEIW"
   },
   "outputs": [],
   "source": []
  }
 ],
 "metadata": {
  "colab": {
   "collapsed_sections": [],
   "include_colab_link": true,
   "name": "extract_data_users.ipynb",
   "provenance": [],
   "toc_visible": true
  },
  "kernelspec": {
   "display_name": "Python 3",
   "language": "python",
   "name": "python3"
  },
  "language_info": {
   "codemirror_mode": {
    "name": "ipython",
    "version": 3
   },
   "file_extension": ".py",
   "mimetype": "text/x-python",
   "name": "python",
   "nbconvert_exporter": "python",
   "pygments_lexer": "ipython3",
   "version": "3.6.9"
  }
 },
 "nbformat": 4,
 "nbformat_minor": 1
}
