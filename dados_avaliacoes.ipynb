{
 "cells": [
  {
   "cell_type": "markdown",
   "metadata": {},
   "source": [
    "## Imports"
   ]
  },
  {
   "cell_type": "code",
   "execution_count": null,
   "metadata": {},
   "outputs": [],
   "source": [
    "import os\n",
    "import re\n",
    "import pymysql\n",
    "\n",
    "from pprint import pprint"
   ]
  },
  {
   "cell_type": "markdown",
   "metadata": {},
   "source": [
    "## Extraindo o semestre"
   ]
  },
  {
   "cell_type": "code",
   "execution_count": 2,
   "metadata": {},
   "outputs": [
    {
     "name": "stdout",
     "output_type": "stream",
     "text": [
      "{'2016-1': {},\n",
      " '2016-2': {},\n",
      " '2017-1': {},\n",
      " '2017-2': {},\n",
      " '2018-1': {},\n",
      " '2018-2': {},\n",
      " '2019-1': {}}\n"
     ]
    }
   ],
   "source": [
    "\n",
    "ROOT = '../dataset/workbench/'\n",
    "\n",
    "database = {}\n",
    "\n",
    "for semester_id in os.listdir(ROOT):\n",
    "    database[semester_id] = {}\n",
    "\n",
    "pprint(database)"
   ]
  },
  {
   "cell_type": "markdown",
   "metadata": {},
   "source": [
    "## 1.2 Extraindo as turmas"
   ]
  },
  {
   "cell_type": "code",
   "execution_count": 3,
   "metadata": {},
   "outputs": [
    {
     "name": "stdout",
     "output_type": "stream",
     "text": [
      "{'2016-1': {'102': {},\n",
      "            '103': {},\n",
      "            '105': {},\n",
      "            '106': {},\n",
      "            '107': {},\n",
      "            '108': {},\n",
      "            '109': {},\n",
      "            '110': {},\n",
      "            '111': {}},\n",
      " '2016-2': {'122': {}, '124': {}, '125': {}, '127': {}, '128': {}},\n",
      " '2017-1': {'135': {},\n",
      "            '136': {},\n",
      "            '137': {},\n",
      "            '138': {},\n",
      "            '139': {},\n",
      "            '140': {},\n",
      "            '141': {},\n",
      "            '142': {},\n",
      "            '143': {},\n",
      "            '144': {}},\n",
      " '2017-2': {'160': {}, '162': {}, '163': {}, '164': {}, '165': {}},\n",
      " '2018-1': {'180': {},\n",
      "            '181': {},\n",
      "            '183': {},\n",
      "            '185': {},\n",
      "            '186': {},\n",
      "            '187': {},\n",
      "            '188': {},\n",
      "            '189': {},\n",
      "            '190': {}},\n",
      " '2018-2': {'204': {}, '205': {}, '206': {}, '207': {}, '208': {}},\n",
      " '2019-1': {'220': {},\n",
      "            '221': {},\n",
      "            '222': {},\n",
      "            '223': {},\n",
      "            '224': {},\n",
      "            '225': {},\n",
      "            '226': {},\n",
      "            '230': {},\n",
      "            '231': {}}}\n"
     ]
    }
   ],
   "source": [
    "\n",
    "ROOT = '../dataset/workbench/{semester}'\n",
    "\n",
    "for semester_id in database.keys():\n",
    "    path = ROOT.replace('{semester}', semester_id)\n",
    "    classes = os.listdir(path)\n",
    "    for class_id in classes:\n",
    "        database[semester_id][class_id] = {}\n",
    "pprint(database)"
   ]
  },
  {
   "cell_type": "code",
   "execution_count": null,
   "metadata": {},
   "outputs": [],
   "source": [
    "\n",
    "ROOT = '../dataset/workbench/{semester}/{class}'"
   ]
  }
 ],
 "metadata": {
  "kernelspec": {
   "display_name": "Python 3",
   "language": "python",
   "name": "python3"
  },
  "language_info": {
   "codemirror_mode": {
    "name": "ipython",
    "version": 3
   },
   "file_extension": ".py",
   "mimetype": "text/x-python",
   "name": "python",
   "nbconvert_exporter": "python",
   "pygments_lexer": "ipython3",
   "version": "3.7.4"
  }
 },
 "nbformat": 4,
 "nbformat_minor": 4
}
