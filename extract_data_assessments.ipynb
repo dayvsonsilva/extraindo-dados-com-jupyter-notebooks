{
 "cells": [
  {
   "cell_type": "markdown",
   "metadata": {
    "colab_type": "text",
    "id": "wW7tzWimgNJ4"
   },
   "source": [
    "## Estrutura de armazenamento dos dados"
   ]
  },
  {
   "cell_type": "markdown",
   "metadata": {
    "colab_type": "text",
    "id": "HCHMS0oTfnSM"
   },
   "source": [
    "```\n",
    "    semester_id\n",
    "             |--- class_id\n",
    "             |        |--- assessment_id\n",
    "             |        |      |--- {feature1 : feature_value}\n",
    "             |        |      |--- {feature2 : feature_value}\n",
    "             |        |      |--- .......\n",
    "             |        |      |--- {featureN : feature_value}\n",
    "```"
   ]
  },
  {
   "cell_type": "markdown",
   "metadata": {
    "colab_type": "text",
    "id": "oAcODlpA2CJ8"
   },
   "source": [
    "## Extraindo os dados dos arquivos"
   ]
  },
  {
   "cell_type": "markdown",
   "metadata": {
    "colab_type": "text",
    "id": "GAZ9v8-bdfVO"
   },
   "source": [
    "### Importando bibliotecas"
   ]
  },
  {
   "cell_type": "code",
   "execution_count": null,
   "metadata": {
    "colab": {},
    "colab_type": "code",
    "id": "5rbRu0JseSz-"
   },
   "outputs": [],
   "source": [
    "import tarfile\n",
    "import os\n",
    "import re\n",
    "import pymysql\n",
    "\n",
    "from pprint import pprint"
   ]
  },
  {
   "cell_type": "markdown",
   "metadata": {
    "colab_type": "text",
    "id": "jaXsyZD_eCbU"
   },
   "source": [
    "### Coletando os semestres"
   ]
  },
  {
   "cell_type": "code",
   "execution_count": null,
   "metadata": {
    "colab": {
     "base_uri": "https://localhost:8080/",
     "height": 136
    },
    "colab_type": "code",
    "id": "sZcNJZUHyOkO",
    "outputId": "f011c4af-d79d-41c0-a352-3003af5fa98f"
   },
   "outputs": [],
   "source": [
    "PATH = '../dataset/workbench'\n",
    "dataset = {}\n",
    "for semester_id in os.listdir(PATH):\n",
    "    if re.search(r'\\d{4}-\\d', semester_id):\n",
    "        dataset[semester_id] = {}\n",
    "\n",
    "pprint(dataset)"
   ]
  },
  {
   "cell_type": "markdown",
   "metadata": {
    "colab_type": "text",
    "id": "3iSnH-8reVAn"
   },
   "source": [
    "### Coletando as turmas"
   ]
  },
  {
   "cell_type": "code",
   "execution_count": null,
   "metadata": {
    "colab": {
     "base_uri": "https://localhost:8080/",
     "height": 697
    },
    "colab_type": "code",
    "id": "D6j_5So36rvK",
    "outputId": "c273f8bd-f7f1-4fd5-ce25-2f9bfd79e435"
   },
   "outputs": [],
   "source": [
    "PATH = '../dataset/workbench/{semester_id}'\n",
    "\n",
    "for semester_id in dataset.keys():\n",
    "    path = PATH.replace('{semester_id}', semester_id)\n",
    "    for class_id in os.listdir(path):\n",
    "        if re.match(r'\\d+', class_id):\n",
    "            dataset[semester_id][class_id] = {}\n",
    "\n",
    "pprint(dataset)"
   ]
  },
  {
   "cell_type": "markdown",
   "metadata": {
    "colab_type": "text",
    "id": "eiD8IDytefbo"
   },
   "source": [
    "### Coletando os id's das avaliações"
   ]
  },
  {
   "cell_type": "code",
   "execution_count": null,
   "metadata": {
    "colab": {
     "base_uri": "https://localhost:8080/",
     "height": 1000
    },
    "colab_type": "code",
    "id": "HmqBL-1p_o08",
    "outputId": "e5016a45-ab40-4771-da10-87f67b94e733"
   },
   "outputs": [],
   "source": [
    "PATH = '../dataset/workbench/{semester_id}/{class_id}/assessments/'\n",
    "\n",
    "for semester_id in dataset.keys():\n",
    "    # print(semester_id)\n",
    "    for class_id in dataset[semester_id].keys():\n",
    "        path = PATH.replace('{semester_id}', semester_id)\n",
    "        path = path.replace('{class_id}', class_id)\n",
    "        # print(' ', class_id)\n",
    "        for assessment_id in os.listdir(path):\n",
    "            #print('  ', assessment_id)\n",
    "            assessment_id = re.sub(r'.data','', assessment_id)\n",
    "            dataset[semester_id][class_id][assessment_id] = {}\n",
    "        # print(f' class_id={class_id}, path={path}')\n",
    "\n",
    "pprint(dataset)"
   ]
  },
  {
   "cell_type": "markdown",
   "metadata": {
    "colab_type": "text",
    "id": "F0U4bE-4etpQ"
   },
   "source": [
    "### Extraindo as características e os valores"
   ]
  },
  {
   "cell_type": "code",
   "execution_count": null,
   "metadata": {
    "colab": {
     "base_uri": "https://localhost:8080/",
     "height": 1000
    },
    "colab_type": "code",
    "id": "d1QsTDSGHS0k",
    "outputId": "e6214098-cf49-4a9d-dac1-0cac2ed1a975"
   },
   "outputs": [],
   "source": [
    "# create assessment features and values\n",
    "ROOT = '../dataset/workbench/{semester_id}/{class_id}/assessments/'\n",
    "\n",
    "def extract_feature_value(assessment_file):\n",
    "    features = []\n",
    "    for line in assessment_file:\n",
    "        feature = re.search(r'(\\-{4}\\s)([a-z\\s\\_]+)(\\:)', line)\n",
    "        value = re.search(r'([a-z]\\:\\s)(.+)', line)\n",
    "        if feature and value:\n",
    "            feature = feature.group(2)\n",
    "            feature = re.sub(r'\\s', '_', feature)\n",
    "            features.append(feature)\n",
    "            value = value.group(2)\n",
    "            values.append(value)\n",
    "    return features, values\n",
    "\n",
    "for semester_id in dataset.keys():\n",
    "    for class_id in dataset[semester_id].keys():\n",
    "        path = ROOT.replace('{semester_id}', semester_id)\n",
    "        path = path.replace('{class_id}', class_id)\n",
    "        for assessment_id in dataset[semester_id][class_id].keys():\n",
    "            assessment_file_name = assessment_id+'.data'\n",
    "            fullpath = os.path.join(path, assessment_file_name)\n",
    "            features, values = [], []\n",
    "            with open(fullpath, 'r') as assessment_file:\n",
    "                features, values = extract_feature_value(assessment_file)\n",
    "            for feature, value in zip(features, values): \n",
    "                #print(f'semester_id={semester_id}, class_id={class_id}, assessment_id={assessment_id}, feature={feature}, value={value}')\n",
    "                dataset[semester_id][class_id][assessment_id][feature] = value\n",
    "\n",
    "pprint(dataset)"
   ]
  },
  {
   "cell_type": "markdown",
   "metadata": {},
   "source": [
    "## Inserido dados no banco de dados"
   ]
  },
  {
   "cell_type": "markdown",
   "metadata": {},
   "source": [
    "### Estabelecendo conxeão"
   ]
  },
  {
   "cell_type": "code",
   "execution_count": null,
   "metadata": {},
   "outputs": [],
   "source": [
    "def connection_database():\n",
    "    connection = pymysql.connect(host='localhost',\n",
    "                             user='root',\n",
    "                             password='open',\n",
    "                             db='dataset-workbench',\n",
    "                             charset='utf8mb4',\n",
    "                             cursorclass=pymysql.cursors.DictCursor)\n",
    "    return connection"
   ]
  },
  {
   "cell_type": "markdown",
   "metadata": {},
   "source": [
    "### Gravando no banco"
   ]
  },
  {
   "cell_type": "code",
   "execution_count": null,
   "metadata": {},
   "outputs": [],
   "source": [
    "conn = connection_database()\n",
    "cursor = conn.cursor()\n",
    "\n",
    "for semester_id in dataset.keys():\n",
    "    for class_id in dataset[semester_id].keys():\n",
    "        for assessment_id in dataset[semester_id][class_id].keys():\n",
    "            features = f\"assessment_id, semester_id, \"\n",
    "            values = f\"'{semester_id}#{class_id}#{assessment_id}', '{semester_id}', \"\n",
    "            for feature in dataset[semester_id][class_id][assessment_id].keys():\n",
    "                feature_value = dataset[semester_id][class_id][assessment_id][feature] \n",
    "                return_search = re.search(r'\\d+\\:\\d+', feature_value)\n",
    "                if return_search:\n",
    "                    hour = return_search.group(0)\n",
    "                    new_hour = hour+':00'\n",
    "                    feature_value = feature_value.replace(hour, new_hour)\n",
    "\n",
    "                features += f\"{feature}, \"\n",
    "                if feature in ['assessment_title', 'class_name',\n",
    "                                'start', 'end', 'language', 'codemirror_mode',\n",
    "                                'type']:\n",
    "                    values += f\"'{feature_value}', \"\n",
    "                else:\n",
    "                    values += f\"{feature_value}, \"\n",
    "            insert_assessment = f\"INSERT INTO assessment ({features[:-2]}) VALUES ({values[:-2]})\"\n",
    "            print(insert_assessment)\n",
    "            cursor.execute(insert_assessment)\n",
    "\n",
    "conn.commit()\n",
    "conn.close()"
   ]
  }
 ],
 "metadata": {
  "accelerator": "GPU",
  "colab": {
   "collapsed_sections": [],
   "name": "extraindo_dados.ipynb",
   "provenance": [],
   "toc_visible": true
  },
  "kernelspec": {
   "display_name": "Python 3",
   "language": "python",
   "name": "python3"
  },
  "language_info": {
   "codemirror_mode": {
    "name": "ipython",
    "version": 3
   },
   "file_extension": ".py",
   "mimetype": "text/x-python",
   "name": "python",
   "nbconvert_exporter": "python",
   "pygments_lexer": "ipython3",
   "version": "3.7.3"
  }
 },
 "nbformat": 4,
 "nbformat_minor": 1
}
